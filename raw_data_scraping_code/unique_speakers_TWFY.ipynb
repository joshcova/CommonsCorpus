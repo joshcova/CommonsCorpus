{
 "cells": [
  {
   "cell_type": "markdown",
   "id": "ed74d064",
   "metadata": {},
   "source": [
    "In this file, we illustrate: \n",
    "- How we have extracted the unique speakers available from the scraped XML data of the TheyWorkForYou (TWFY) repository. \n",
    "- This is important to later on combine these data with data from the Comparative Legislators Database. \n"
   ]
  },
  {
   "cell_type": "code",
   "execution_count": null,
   "id": "dcda5c7b",
   "metadata": {},
   "outputs": [],
   "source": [
    "## Load libraries\n",
    "\n",
    "from bs4 import BeautifulSoup, SoupStrainer\n",
    "import urllib.request \n",
    "import pandas as pd\n",
    "import nltk\n",
    "from nltk.tokenize import word_tokenize\n",
    "from nltk.tokenize import sent_tokenize\n",
    "import xml.etree.ElementTree as ET"
   ]
  },
  {
   "cell_type": "code",
   "execution_count": null,
   "id": "46f29b64",
   "metadata": {},
   "outputs": [],
   "source": [
    "df = pd.read_pickle(\"uk_debates_1970_1979.pkl\")"
   ]
  },
  {
   "cell_type": "code",
   "execution_count": null,
   "id": "141e6e51",
   "metadata": {},
   "outputs": [],
   "source": [
    "# extract the date from the speech_id_link\n",
    "\n",
    "df['date'] = df['speech_id_link'].str.extract(r'(\\d{4}-\\d{2}-\\d{2})')\n"
   ]
  },
  {
   "cell_type": "code",
   "execution_count": null,
   "id": "680a28dc",
   "metadata": {},
   "outputs": [],
   "source": [
    "# define the legislatures with their start and end dates\n",
    "\n",
    "legislatures = [\n",
    "    {\"number\": 45, \"start\": \"1970-06-18\", \"end\": \"1974-02-27\"},\n",
    "    {\"number\": 46, \"start\": \"1974-02-28\", \"end\": \"1974-10-09\"},\n",
    "    {\"number\": 47, \"start\": \"1974-10-10\", \"end\": \"1979-05-02\"},\n",
    "    {\"number\": 48, \"start\": \"1979-05-03\", \"end\": \"1983-06-08\"},\n",
    "    {\"number\": 49, \"start\": \"1983-06-09\", \"end\": \"1987-06-10\"},\n",
    "    {\"number\": 50, \"start\": \"1987-06-11\", \"end\": \"1992-04-08\"},\n",
    "    {\"number\": 51, \"start\": \"1992-04-09\", \"end\": \"1997-04-30\"},\n",
    "    {\"number\": 52, \"start\": \"1997-05-01\", \"end\": \"2001-06-06\"},\n",
    "    {\"number\": 53, \"start\": \"2001-06-07\", \"end\": \"2005-05-04\"},\n",
    "    {\"number\": 54, \"start\": \"2005-05-05\", \"end\": \"2010-05-05\"},\n",
    "    {\"number\": 55, \"start\": \"2010-05-06\", \"end\": \"2015-05-06\"},\n",
    "    {\"number\": 56, \"start\": \"2015-05-07\", \"end\": \"2017-06-07\"},\n",
    "    {\"number\": 57, \"start\": \"2017-06-08\", \"end\": \"2019-12-11\"},\n",
    "    {\"number\": 58, \"start\": \"2019-12-12\", \"end\": \"2024-05-22\"}, \n",
    "]"
   ]
  },
  {
   "cell_type": "code",
   "execution_count": null,
   "id": "5a15f96f",
   "metadata": {},
   "outputs": [],
   "source": [
    "for leg in legislatures:\n",
    "    leg[\"start\"] = pd.to_datetime(leg[\"start\"])\n",
    "    leg[\"end\"] = pd.to_datetime(leg[\"end\"])\n"
   ]
  },
  {
   "cell_type": "code",
   "execution_count": null,
   "id": "1dd4cd55",
   "metadata": {},
   "outputs": [],
   "source": [
    "df[\"date\"] = pd.to_datetime(df[\"date\"])\n"
   ]
  },
  {
   "cell_type": "code",
   "execution_count": null,
   "id": "0b0e657e",
   "metadata": {},
   "outputs": [],
   "source": [
    "def get_legislature(date):\n",
    "    for leg in legislatures:\n",
    "        if leg[\"start\"] <= date <= leg[\"end\"]:\n",
    "            return leg[\"number\"]\n",
    "    return None\n",
    "\n",
    "# Apply function\n",
    "df[\"legislature\"] = df[\"date\"].apply(get_legislature)\n"
   ]
  },
  {
   "cell_type": "code",
   "execution_count": null,
   "id": "a19716d5",
   "metadata": {},
   "outputs": [],
   "source": [
    "df = df[df[\"date\"] > \"1970-06-17\"]"
   ]
  },
  {
   "cell_type": "code",
   "execution_count": null,
   "id": "fe27791e",
   "metadata": {},
   "outputs": [],
   "source": [
    "df_45 = df[df[\"legislature\"]==45]\n",
    "df_46 = df[df[\"legislature\"]==46]\n",
    "df_47 = df[df[\"legislature\"]==47]\n",
    "df_48 = df[df[\"legislature\"]==48]"
   ]
  },
  {
   "cell_type": "code",
   "execution_count": null,
   "id": "cc0d70eb",
   "metadata": {},
   "outputs": [],
   "source": [
    "u_df_45 = df_45.drop_duplicates([\"twfy_member_id\"])\n",
    "u_df_46 = df_46.drop_duplicates([\"twfy_member_id\"])\n",
    "u_df_47 = df_47.drop_duplicates([\"twfy_member_id\"])\n",
    "u_df_48 = df_48.drop_duplicates([\"twfy_member_id\"])"
   ]
  },
  {
   "cell_type": "code",
   "execution_count": null,
   "id": "6a717862",
   "metadata": {},
   "outputs": [],
   "source": [
    "u_df_45.to_csv(\"unique_speaker_45.csv\")\n",
    "u_df_46.to_csv(\"unique_speaker_46.csv\")\n",
    "u_df_47.to_csv(\"unique_speaker_47.csv\")\n",
    "u_df_48.to_csv(\"unique_speaker_48.csv\")"
   ]
  },
  {
   "cell_type": "markdown",
   "id": "58cdde9a",
   "metadata": {},
   "source": [
    "Once we have data on the unique speakers, we need to merge it with data from the Comparative Legislators Database (CLD)."
   ]
  }
 ],
 "metadata": {
  "language_info": {
   "name": "python"
  }
 },
 "nbformat": 4,
 "nbformat_minor": 5
}
