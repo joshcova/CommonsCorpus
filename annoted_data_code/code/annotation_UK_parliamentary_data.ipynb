{
 "cells": [
  {
   "cell_type": "markdown",
   "id": "05fc6802",
   "metadata": {},
   "source": [
    "After having created a list of matched unique speakers by legislature from both the CLD and TWFY dataset, we can now merge the speaker_id information from the raw text contained in the scraped files with the additional metadata contained in the Comparative Legislators Database.\n",
    "\n",
    "Again, we will use the example of parliamentary data from the 1970s. "
   ]
  },
  {
   "cell_type": "code",
   "execution_count": 1,
   "id": "836cc3f8",
   "metadata": {},
   "outputs": [],
   "source": [
    "import pandas as pd\n",
    "import numpy as np "
   ]
  },
  {
   "cell_type": "code",
   "execution_count": 2,
   "id": "55fd4742",
   "metadata": {},
   "outputs": [],
   "source": [
    "df = pd.read_pickle(\"C:/Users/jnjco/Desktop/Personal_UK_DE_inflation/Scraping_UK/Scraping_1970s/uk_debates_1970_1979.pkl\")"
   ]
  },
  {
   "cell_type": "code",
   "execution_count": 5,
   "id": "444ca2c2",
   "metadata": {},
   "outputs": [],
   "source": [
    "df.columns = [\"speech_id_link\", \"speaker\", \"twfy_member_id\", \"hansard_id\", \"text\"]"
   ]
  },
  {
   "cell_type": "code",
   "execution_count": 6,
   "id": "56994ef1",
   "metadata": {},
   "outputs": [
    {
     "data": {
      "application/vnd.microsoft.datawrangler.viewer.v0+json": {
       "columns": [
        {
         "name": "index",
         "rawType": "int64",
         "type": "integer"
        },
        {
         "name": "speech_id_link",
         "rawType": "object",
         "type": "string"
        },
        {
         "name": "speaker",
         "rawType": "object",
         "type": "string"
        },
        {
         "name": "twfy_member_id",
         "rawType": "object",
         "type": "string"
        },
        {
         "name": "hansard_id",
         "rawType": "object",
         "type": "unknown"
        },
        {
         "name": "text",
         "rawType": "object",
         "type": "string"
        }
       ],
       "ref": "2c96a287-e5ea-44da-b0e1-e4f05521a553",
       "rows": [
        [
         "0",
         "uk.org.publicwhip/debate/1970-01-19a.1.5",
         "Sir Robert Cary",
         "uk.org.publicwhip/member/13195",
         "2177",
         "On a point of order. Is it true, Mr. Speaker, that your Private Secretary, Sir Francis Reid, died suddenly over the weekend? If that be true, then it is a matter of deep regret to all Members on both sides of the House who shared deep friendships with Sir Francis. Will you, Mr. Speaker, be kind enough to convey our deep sympathy to the members of his family?"
        ],
        [
         "1",
         "uk.org.publicwhip/debate/1970-01-19a.1.6",
         "Mr. Speaker",
         "uk.org.publicwhip/member/29799",
         "10930",
         "I am sorry to confirm what the hon. Gentleman has said. I know that his expression of sorrow and gratitude voices the feeling of the whole House at the passing of an Officer who was the friend of every Member of Parliament."
        ],
        [
         "2",
         "uk.org.publicwhip/debate/1970-01-19a.1.7",
         "The Secretary of State for Wales (Mr. George Thomas)",
         "uk.org.publicwhip/member/31250",
         "10844",
         "On behalf of hon. and right hon. Members on this side of the\n\nHouse, I should like to be associated with the words of sympathy uttered by the hon. Member for Manchester, Withington (Sir R. Cary). Sir Francis was held in deep affection and respect by both sides of the House, as well as by a wide army outside."
        ],
        [
         "3",
         "uk.org.publicwhip/debate/1970-01-19a.2.1",
         "Mr. Speaker",
         "uk.org.publicwhip/member/29799",
         "10930",
         "I have to report that I have received a letter from the Chief Clerk to Bow Street Magistrates' Court, which I shall read to the House:"
        ],
        [
         "4",
         "uk.org.publicwhip/debate/1970-01-19a.2.4",
         "Mr. Fred Evans",
         "unknown",
         null,
         "asked the Secretary of State for Wales whether he is now able to give the net cost to public funds\n\n\nof the ceremony of the investiture of the Prince of Wales held at Caernarvon on 1st July, 1969; and whether he will make a statement."
        ]
       ],
       "shape": {
        "columns": 5,
        "rows": 5
       }
      },
      "text/html": [
       "<div>\n",
       "<style scoped>\n",
       "    .dataframe tbody tr th:only-of-type {\n",
       "        vertical-align: middle;\n",
       "    }\n",
       "\n",
       "    .dataframe tbody tr th {\n",
       "        vertical-align: top;\n",
       "    }\n",
       "\n",
       "    .dataframe thead th {\n",
       "        text-align: right;\n",
       "    }\n",
       "</style>\n",
       "<table border=\"1\" class=\"dataframe\">\n",
       "  <thead>\n",
       "    <tr style=\"text-align: right;\">\n",
       "      <th></th>\n",
       "      <th>speech_id_link</th>\n",
       "      <th>speaker</th>\n",
       "      <th>twfy_member_id</th>\n",
       "      <th>hansard_id</th>\n",
       "      <th>text</th>\n",
       "    </tr>\n",
       "  </thead>\n",
       "  <tbody>\n",
       "    <tr>\n",
       "      <th>0</th>\n",
       "      <td>uk.org.publicwhip/debate/1970-01-19a.1.5</td>\n",
       "      <td>Sir Robert Cary</td>\n",
       "      <td>uk.org.publicwhip/member/13195</td>\n",
       "      <td>2177</td>\n",
       "      <td>On a point of order. Is it true, Mr. Speaker, ...</td>\n",
       "    </tr>\n",
       "    <tr>\n",
       "      <th>1</th>\n",
       "      <td>uk.org.publicwhip/debate/1970-01-19a.1.6</td>\n",
       "      <td>Mr. Speaker</td>\n",
       "      <td>uk.org.publicwhip/member/29799</td>\n",
       "      <td>10930</td>\n",
       "      <td>I am sorry to confirm what the hon. Gentleman ...</td>\n",
       "    </tr>\n",
       "    <tr>\n",
       "      <th>2</th>\n",
       "      <td>uk.org.publicwhip/debate/1970-01-19a.1.7</td>\n",
       "      <td>The Secretary of State for Wales (Mr. George T...</td>\n",
       "      <td>uk.org.publicwhip/member/31250</td>\n",
       "      <td>10844</td>\n",
       "      <td>On behalf of hon. and right hon. Members on th...</td>\n",
       "    </tr>\n",
       "    <tr>\n",
       "      <th>3</th>\n",
       "      <td>uk.org.publicwhip/debate/1970-01-19a.2.1</td>\n",
       "      <td>Mr. Speaker</td>\n",
       "      <td>uk.org.publicwhip/member/29799</td>\n",
       "      <td>10930</td>\n",
       "      <td>I have to report that I have received a letter...</td>\n",
       "    </tr>\n",
       "    <tr>\n",
       "      <th>4</th>\n",
       "      <td>uk.org.publicwhip/debate/1970-01-19a.2.4</td>\n",
       "      <td>Mr. Fred Evans</td>\n",
       "      <td>unknown</td>\n",
       "      <td>None</td>\n",
       "      <td>asked the Secretary of State for Wales whether...</td>\n",
       "    </tr>\n",
       "  </tbody>\n",
       "</table>\n",
       "</div>"
      ],
      "text/plain": [
       "                             speech_id_link  \\\n",
       "0  uk.org.publicwhip/debate/1970-01-19a.1.5   \n",
       "1  uk.org.publicwhip/debate/1970-01-19a.1.6   \n",
       "2  uk.org.publicwhip/debate/1970-01-19a.1.7   \n",
       "3  uk.org.publicwhip/debate/1970-01-19a.2.1   \n",
       "4  uk.org.publicwhip/debate/1970-01-19a.2.4   \n",
       "\n",
       "                                             speaker  \\\n",
       "0                                    Sir Robert Cary   \n",
       "1                                        Mr. Speaker   \n",
       "2  The Secretary of State for Wales (Mr. George T...   \n",
       "3                                        Mr. Speaker   \n",
       "4                                     Mr. Fred Evans   \n",
       "\n",
       "                   twfy_member_id hansard_id  \\\n",
       "0  uk.org.publicwhip/member/13195       2177   \n",
       "1  uk.org.publicwhip/member/29799      10930   \n",
       "2  uk.org.publicwhip/member/31250      10844   \n",
       "3  uk.org.publicwhip/member/29799      10930   \n",
       "4                         unknown       None   \n",
       "\n",
       "                                                text  \n",
       "0  On a point of order. Is it true, Mr. Speaker, ...  \n",
       "1  I am sorry to confirm what the hon. Gentleman ...  \n",
       "2  On behalf of hon. and right hon. Members on th...  \n",
       "3  I have to report that I have received a letter...  \n",
       "4  asked the Secretary of State for Wales whether...  "
      ]
     },
     "execution_count": 6,
     "metadata": {},
     "output_type": "execute_result"
    }
   ],
   "source": [
    "df.head()"
   ]
  },
  {
   "cell_type": "code",
   "execution_count": 7,
   "id": "0ac29cec",
   "metadata": {},
   "outputs": [],
   "source": [
    "df['date'] = df['speech_id_link'].str.extract(r'(\\d{4}-\\d{2}-\\d{2})')\n"
   ]
  },
  {
   "cell_type": "code",
   "execution_count": 8,
   "id": "52b7d5d0",
   "metadata": {},
   "outputs": [],
   "source": [
    "legislatures = [\n",
    "    {\"number\": 45, \"start\": \"1970-06-18\", \"end\": \"1974-02-27\"},\n",
    "    {\"number\": 46, \"start\": \"1974-02-28\", \"end\": \"1974-10-09\"},\n",
    "    {\"number\": 47, \"start\": \"1974-10-10\", \"end\": \"1979-05-02\"},\n",
    "    {\"number\": 48, \"start\": \"1979-05-03\", \"end\": \"1983-06-08\"},\n",
    "    {\"number\": 49, \"start\": \"1983-06-09\", \"end\": \"1987-06-10\"},\n",
    "    {\"number\": 50, \"start\": \"1987-06-11\", \"end\": \"1992-04-08\"},\n",
    "    {\"number\": 51, \"start\": \"1992-04-09\", \"end\": \"1997-04-30\"},\n",
    "    {\"number\": 52, \"start\": \"1997-05-01\", \"end\": \"2001-06-06\"},\n",
    "    {\"number\": 53, \"start\": \"2001-06-07\", \"end\": \"2005-05-04\"},\n",
    "    {\"number\": 54, \"start\": \"2005-05-05\", \"end\": \"2010-05-05\"},\n",
    "    {\"number\": 55, \"start\": \"2010-05-06\", \"end\": \"2015-05-06\"},\n",
    "    {\"number\": 56, \"start\": \"2015-05-07\", \"end\": \"2017-06-07\"},\n",
    "    {\"number\": 57, \"start\": \"2017-06-08\", \"end\": \"2019-12-11\"},\n",
    "    {\"number\": 58, \"start\": \"2019-12-12\", \"end\": \"2024-05-22\"}, \n",
    "]"
   ]
  },
  {
   "cell_type": "code",
   "execution_count": 9,
   "id": "c3c491a1",
   "metadata": {},
   "outputs": [],
   "source": [
    "for leg in legislatures:\n",
    "    leg[\"start\"] = pd.to_datetime(leg[\"start\"])\n",
    "    leg[\"end\"] = pd.to_datetime(leg[\"end\"])\n"
   ]
  },
  {
   "cell_type": "code",
   "execution_count": 10,
   "id": "24373d0f",
   "metadata": {},
   "outputs": [],
   "source": [
    "df[\"date\"] = pd.to_datetime(df[\"date\"])\n"
   ]
  },
  {
   "cell_type": "code",
   "execution_count": 11,
   "id": "7396ab64",
   "metadata": {},
   "outputs": [],
   "source": [
    "def get_legislature(date):\n",
    "    for leg in legislatures:\n",
    "        if leg[\"start\"] <= date <= leg[\"end\"]:\n",
    "            return leg[\"number\"]\n",
    "    return None\n",
    "\n",
    "df[\"legislature\"] = df[\"date\"].apply(get_legislature)\n"
   ]
  },
  {
   "cell_type": "code",
   "execution_count": 12,
   "id": "bc44edb3",
   "metadata": {},
   "outputs": [],
   "source": [
    "df = df[df[\"date\"] > \"1970-06-17\"]"
   ]
  },
  {
   "cell_type": "code",
   "execution_count": 13,
   "id": "5ec60291",
   "metadata": {},
   "outputs": [
    {
     "name": "stderr",
     "output_type": "stream",
     "text": [
      "C:\\Users\\jnjco\\AppData\\Local\\Temp\\ipykernel_11044\\1433088405.py:2: SettingWithCopyWarning: \n",
      "A value is trying to be set on a copy of a slice from a DataFrame.\n",
      "Try using .loc[row_indexer,col_indexer] = value instead\n",
      "\n",
      "See the caveats in the documentation: https://pandas.pydata.org/pandas-docs/stable/user_guide/indexing.html#returning-a-view-versus-a-copy\n",
      "  df['chair'] = df['speaker'].str.contains(r'\\bSpeaker\\b', regex=True, na=False)\n"
     ]
    }
   ],
   "source": [
    "# Create a \"chair\" column to identify speakers who are chairs\n",
    "df['chair'] = df['speaker'].str.contains(r'\\bSpeaker\\b', regex=True, na=False)"
   ]
  },
  {
   "cell_type": "code",
   "execution_count": null,
   "id": "b1e84f92",
   "metadata": {},
   "outputs": [],
   "source": [
    "# Read Excel file with matched speaker IDs. Where the LLM was not able to matche a speaker, we manually matched them. \n",
    "# This means that all unique IDs are matched with a speaker name (and associated metadata) as recorded in the CLD dataset.\n",
    "commonscorpus_id = pd.read_excel(\"./unique_speakers_integrated.xlsx\")"
   ]
  },
  {
   "cell_type": "code",
   "execution_count": null,
   "id": "37f7e856",
   "metadata": {},
   "outputs": [],
   "source": [
    "commonscorpus_id = commonscorpus_id.rename(columns={\"member_id\": \"twfy_member_id\"})"
   ]
  },
  {
   "cell_type": "code",
   "execution_count": null,
   "id": "f42fa270",
   "metadata": {},
   "outputs": [],
   "source": [
    "commonscorpus_id[\"twfy_member_id\"] = commonscorpus_id[\"twfy_member_id\"].astype(str)"
   ]
  },
  {
   "cell_type": "code",
   "execution_count": null,
   "id": "a9ed4981",
   "metadata": {},
   "outputs": [],
   "source": [
    "df_new = pd.merge(df, commonscorpus_id, how=\"left\", on = \"twfy_member_id\")"
   ]
  },
  {
   "cell_type": "code",
   "execution_count": 19,
   "id": "342bc8e6",
   "metadata": {},
   "outputs": [],
   "source": [
    "df_new = df_new.drop_duplicates(subset=[\"speech_id_link\"], keep=\"first\")"
   ]
  },
  {
   "cell_type": "code",
   "execution_count": 20,
   "id": "f133c6c6",
   "metadata": {},
   "outputs": [],
   "source": [
    "df_new = df_new.drop(columns=[\"Source.Name\", \"Column1\", \"speaker_y\", \"speaker_id\", \"hansard_id_y\", \"match_speaker\", \"check\"])"
   ]
  },
  {
   "cell_type": "code",
   "execution_count": 21,
   "id": "41853c70",
   "metadata": {},
   "outputs": [],
   "source": [
    "mask_unknown = df_new['twfy_member_id'] == 'unknown'\n",
    "\n",
    "# Fill 'date' and 'legislature' from the previous row for unknowns\n",
    "df_new.loc[mask_unknown, 'date'] = df_new['date'].ffill()\n",
    "df_new.loc[mask_unknown, 'legislature'] = df_new['legislature'].ffill()\n",
    "df_new.loc[mask_unknown, 'session'] = df_new['session'].ffill()\n",
    "\n",
    "# Set 'chair' to False\n",
    "df_new.loc[mask_unknown, 'chair'] = False\n",
    "\n",
    "# Columns to keep unchanged even if twfy_member_id is unknown\n",
    "keep_columns = ['speech_id_link', 'speaker_x', 'text', 'date', 'legislature', 'session', 'chair']\n",
    "\n",
    "# Columns to be set to NaN for \"unknown\" rows\n",
    "cols_to_null = df_new.columns.difference(keep_columns)\n",
    "\n",
    "# Set those to NaN\n",
    "df_new.loc[mask_unknown, cols_to_null] = np.nan"
   ]
  },
  {
   "cell_type": "code",
   "execution_count": 22,
   "id": "00476e31",
   "metadata": {},
   "outputs": [],
   "source": [
    "df_new = df_new.rename(columns={\"speaker_x\": \"speaker\"}) "
   ]
  },
  {
   "cell_type": "code",
   "execution_count": 23,
   "id": "94409b49",
   "metadata": {},
   "outputs": [],
   "source": [
    "df_new['chair'] = df_new['speaker'].str.contains(r'\\bSpeaker\\b', regex=True, na=False)"
   ]
  },
  {
   "cell_type": "code",
   "execution_count": 24,
   "id": "c4e36d2b",
   "metadata": {},
   "outputs": [
    {
     "name": "stderr",
     "output_type": "stream",
     "text": [
      "C:\\Users\\jnjco\\AppData\\Local\\Temp\\ipykernel_11044\\2072126069.py:10: FutureWarning: Setting an item of incompatible dtype is deprecated and will raise an error in a future version of pandas. Value 'nan' has dtype incompatible with bool, please explicitly cast to a compatible dtype first.\n",
      "  df_new.loc[df_new['chair'] == True, columns_to_nullify] = np.nan\n"
     ]
    }
   ],
   "source": [
    "columns_to_keep = ['speech_id_link', 'speaker', 'text', 'date', 'legislature']\n",
    "\n",
    "# Get all columns in the dataframe\n",
    "all_columns = df_new.columns\n",
    "\n",
    "# Find columns to nullify\n",
    "columns_to_nullify = [col for col in all_columns if col not in columns_to_keep]\n",
    "\n",
    "# Set specified columns to NaN where chair is True\n",
    "df_new.loc[df_new['chair'] == True, columns_to_nullify] = np.nan"
   ]
  },
  {
   "cell_type": "code",
   "execution_count": null,
   "id": "3897adc0",
   "metadata": {},
   "outputs": [],
   "source": []
  }
 ],
 "metadata": {
  "kernelspec": {
   "display_name": "Python 3",
   "language": "python",
   "name": "python3"
  },
  "language_info": {
   "codemirror_mode": {
    "name": "ipython",
    "version": 3
   },
   "file_extension": ".py",
   "mimetype": "text/x-python",
   "name": "python",
   "nbconvert_exporter": "python",
   "pygments_lexer": "ipython3",
   "version": "3.11.9"
  }
 },
 "nbformat": 4,
 "nbformat_minor": 5
}
