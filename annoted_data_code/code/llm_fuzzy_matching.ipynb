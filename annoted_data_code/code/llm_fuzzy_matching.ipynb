{
 "cells": [
  {
   "cell_type": "markdown",
   "id": "f00793af",
   "metadata": {},
   "source": [
    "In this file, we showcase how we have used OpenAI GPT-4.0 to aid in the fuzzy matching between the speaker information available from the TWFY dataset with the speaker information available from the Comparative Legislators Database (CLD). The goal is to match the speaker names from TWFY with those in the CLD. We divided this analysis by legislative period."
   ]
  },
  {
   "cell_type": "code",
   "execution_count": null,
   "id": "f95d344d",
   "metadata": {},
   "outputs": [],
   "source": [
    "import pandas as pd\n",
    "from openai import OpenAI\n",
    "import os\n",
    "from openai import OpenAI\n",
    "import tiktoken\n",
    "import seaborn as sns\n",
    "import pandas as pd\n",
    "import numpy as np\n",
    "import matplotlib.pyplot as plt\n",
    "import json\n",
    "import re\n",
    "from dotenv import load_dotenv\n"
   ]
  },
  {
   "cell_type": "code",
   "execution_count": null,
   "id": "c54b6d60",
   "metadata": {},
   "outputs": [],
   "source": [
    "client = OpenAI(api_key=os.getenv(\"api_key\"))"
   ]
  },
  {
   "cell_type": "code",
   "execution_count": null,
   "id": "49d34e0d",
   "metadata": {},
   "outputs": [],
   "source": [
    "# The csv file that is read in contains the list of unique speakers recorded by the CLD and TWFY datasets, divided by legislature. \n",
    "\n",
    "# In this example, we will use the 46th legislature.\n",
    "\n",
    "df = pd.read_csv(\"./combined_df_46.csv\")"
   ]
  },
  {
   "cell_type": "code",
   "execution_count": null,
   "id": "44822eae",
   "metadata": {},
   "outputs": [],
   "source": [
    "# We first separate the data by creating two different dataframe, one containing the CLD speaker names (and associated metadata and unique ID) and the other containing the TWFY speaker names \n",
    "# (and associated metadata and unique ID).\n",
    "\n",
    "# CLD dataset \n",
    "df_cld = df[[\"wikidataid\",\"pageid\",\"name\", \"ethnicity\", \"religion\", \"sex\", \"birth\", \"death\", \"birthplace\", \"deathplace\", \"session\", \"party\", \"constituency\"]]"
   ]
  },
  {
   "cell_type": "code",
   "execution_count": null,
   "id": "dbeb3f0f",
   "metadata": {},
   "outputs": [],
   "source": [
    "# TWFY dataset\n",
    "df = df[[\"speaker\", \"name\", \"twfy_member_id\", \"hansard_id\"]]"
   ]
  },
  {
   "cell_type": "code",
   "execution_count": null,
   "id": "56801bed",
   "metadata": {},
   "outputs": [],
   "source": [
    "# Now we specificy the prompt that we will use to match the speaker names from the TWFY dataset with those in the CLD dataset.\n",
    "\n",
    "instructions = \"\"\"\n",
    "Your task is to link the text recorded in the speaker column with the closest text you can find in the name column. \n",
    "\n",
    "You should do this by creating a new column called match and reporting the text in the name column which constitutes the closest match to the text in the speaker column. \n",
    "\n",
    "Do this for every row. If unsure, insert unsure\n",
    "\"\"\""
   ]
  },
  {
   "cell_type": "code",
   "execution_count": null,
   "id": "46b7d40c",
   "metadata": {},
   "outputs": [],
   "source": [
    "# Test prompt\n",
    "\n",
    "messages = [ \n",
    "    {\"role\": \"system\", \"content\": instructions},\n",
    "    {\"role\": \"user\", \"content\": df['speaker'].values[0]}\n",
    "]\n",
    "\n",
    "response = client.chat.completions.create(\n",
    "    model=\"gpt-4o\",\n",
    "    messages=messages,\n",
    "    seed=42,\n",
    "    temperature=0.0,\n",
    ")\n",
    "\n",
    "results = response.choices[0].message.content\n",
    "results"
   ]
  },
  {
   "cell_type": "code",
   "execution_count": null,
   "id": "2cb5e658",
   "metadata": {},
   "outputs": [],
   "source": [
    "# Define a function \n",
    "\n",
    "def classify_text(row):\n",
    "    speaker = str(row[\"speaker\"])\n",
    "    all_names = df[\"name\"].dropna().astype(str).tolist()\n",
    "    name_list_str = \"\\n\".join(all_names)\n",
    "\n",
    "    \n",
    "    messages = [\n",
    "        {\"role\": \"system\", \"content\": instructions},\n",
    "        {\"role\": \"user\", \"content\": f\"Speaker: {speaker}\\nName list:\\n{name_list_str}\"}\n",
    "    ]\n",
    "\n",
    "    # Call the API\n",
    "    response = client.chat.completions.create(\n",
    "        model=\"gpt-4o\",\n",
    "        messages=messages,\n",
    "        seed=42,\n",
    "        temperature=0.0,\n",
    "    )\n",
    "\n",
    "    return response.choices[0].message.content.strip()"
   ]
  },
  {
   "cell_type": "code",
   "execution_count": null,
   "id": "d61e3e76",
   "metadata": {},
   "outputs": [],
   "source": [
    "df[\"match\"] = df.apply(classify_text, axis=1)"
   ]
  },
  {
   "cell_type": "code",
   "execution_count": null,
   "id": "2e2a9a83",
   "metadata": {},
   "outputs": [],
   "source": [
    "## clean the resulting match column\n",
    "\n",
    "def extract_match_value(match_str):\n",
    "    try:\n",
    "        lines = match_str.strip().split(\"\\n\")\n",
    "        if len(lines) >= 3:\n",
    "            values = [cell.strip() for cell in lines[2].strip().split(\"|\")[1:-1]]\n",
    "            return values  # returns a list: [Speaker, Match]\n",
    "        else:\n",
    "            return [None, None]\n",
    "    except:\n",
    "        return [None, None]\n",
    "\n",
    "# Apply extraction to each row\n",
    "df[['match_speaker', 'match_name']] = df['match'].apply(extract_match_value).apply(pd.Series)"
   ]
  },
  {
   "cell_type": "code",
   "execution_count": null,
   "id": "b65755e3",
   "metadata": {},
   "outputs": [],
   "source": [
    "df = df.drop(\"name\", axis=1)"
   ]
  },
  {
   "cell_type": "code",
   "execution_count": null,
   "id": "56d82ab4",
   "metadata": {},
   "outputs": [],
   "source": [
    "df = df.rename(columns={\"match_name\":\"name\"})"
   ]
  },
  {
   "cell_type": "code",
   "execution_count": null,
   "id": "76b4f9eb",
   "metadata": {},
   "outputs": [],
   "source": [
    "df = pd.merge(df, df_cld, on = \"name\", how=\"left\")"
   ]
  },
  {
   "cell_type": "code",
   "execution_count": null,
   "id": "26110be2",
   "metadata": {},
   "outputs": [],
   "source": [
    "df = df.rename(columns={\"name\":\"name_cld\"})"
   ]
  },
  {
   "cell_type": "code",
   "execution_count": null,
   "id": "43ccf578",
   "metadata": {},
   "outputs": [],
   "source": [
    "df.to_csv(\"./merge_openai_46.csv\")"
   ]
  }
 ],
 "metadata": {
  "language_info": {
   "name": "python"
  }
 },
 "nbformat": 4,
 "nbformat_minor": 5
}
