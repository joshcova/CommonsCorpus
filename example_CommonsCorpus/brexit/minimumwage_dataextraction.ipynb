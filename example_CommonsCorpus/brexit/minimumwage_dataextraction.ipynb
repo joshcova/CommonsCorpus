{
 "cells": [
  {
   "cell_type": "code",
   "execution_count": null,
   "id": "16f0a269",
   "metadata": {},
   "outputs": [],
   "source": [
    "import os\n",
    "import pandas as pd\n",
    "import nltk\n",
    "import re"
   ]
  },
  {
   "cell_type": "code",
   "execution_count": null,
   "id": "09c3e95b",
   "metadata": {},
   "outputs": [],
   "source": [
    "# Change with yout working directories\n",
    "FOLDER_PATH = \"data/combined data\"\n",
    "OUTPUT_PATH = \"applications\""
   ]
  },
  {
   "cell_type": "code",
   "execution_count": null,
   "id": "c3733a54",
   "metadata": {},
   "outputs": [],
   "source": [
    "# Combine CSV files\n",
    "file_paths = [os.path.join(FOLDER_PATH, f) for f in os.listdir(FOLDER_PATH) if f.endswith('.csv')]\n",
    "list_of_data_frames = [pd.read_csv(file) for file in file_paths]\n",
    "df = pd.concat(list_of_data_frames, ignore_index=True)"
   ]
  },
  {
   "cell_type": "code",
   "execution_count": null,
   "id": "1827f227",
   "metadata": {},
   "outputs": [],
   "source": [
    "# Select speeches mentioning \"living wage\" or \"minimum wage\"\n",
    "search_phrase = r\"living wage|minimum wage\"\n",
    "relevant_df = df[df['text'].str.contains(search_phrase, case=False, na=False, regex=True)].copy()"
   ]
  },
  {
   "cell_type": "code",
   "execution_count": null,
   "id": "19132746",
   "metadata": {},
   "outputs": [],
   "source": [
    "# Save filtered Dataframe\n",
    "relevant_df.to_excel(os.path.join(OUTPUT_PATH, \"minimumwage_speech_df.xlsx\"), index=False) "
   ]
  },
  {
   "cell_type": "code",
   "execution_count": null,
   "id": "752e7f53",
   "metadata": {},
   "outputs": [],
   "source": [
    "# Cleaning up text (remove brackets, fix abbreviations, strip whitespace)\n",
    "relevant_df['text'] = (relevant_df['text']\n",
    "                       .str.replace(r'\\[.*?\\]', '', regex=True)\n",
    "                       .str.replace('hon.', 'hon', regex=False)\n",
    "                       .str.strip())"
   ]
  },
  {
   "cell_type": "code",
   "execution_count": null,
   "id": "9027d5bf",
   "metadata": {},
   "outputs": [],
   "source": [
    "# Splitting text into sentences creating a new dataframe\n",
    "matching_sentences = []\n",
    "for index, row in relevant_df.iterrows():\n",
    "    if isinstance(row['text'], str):\n",
    "        sentences = nltk.sent_tokenize(row['text'])\n",
    "        for sentence in sentences:\n",
    "            if re.search(search_phrase, sentence, re.IGNORECASE):\n",
    "                matching_sentences.append({\n",
    "                    'original_index': index,\n",
    "                    'sentence': sentence.strip()\n",
    "                })\n",
    "\n",
    "sentences_df = pd.DataFrame(matching_sentences)\n",
    "\n",
    "final_df = pd.merge(sentences_df, df, left_on='original_index', right_index=True, how='left')\n"
   ]
  },
  {
   "cell_type": "code",
   "execution_count": null,
   "id": "e76aa549",
   "metadata": {},
   "outputs": [],
   "source": [
    "# Create final dataset with metadata and remove redundant columuns\n",
    "final_df = pd.merge(sentences_df, df, left_on='original_index', right_index=True, how='left')\n",
    "final_df = final_df.drop(columns=['text', 'original_index'], errors='ignore')\n",
    "print(final_df)\n"
   ]
  },
  {
   "cell_type": "code",
   "execution_count": null,
   "id": "cb8e2c56",
   "metadata": {},
   "outputs": [],
   "source": [
    "# Save sentence level dataframe\n",
    "final_df.to_excel(os.path.join(OUTPUT_PATH, \"minimumwage_sentence_df.xlsx\"), index=False)"
   ]
  }
 ],
 "metadata": {
  "kernelspec": {
   "display_name": "py39",
   "language": "python",
   "name": "python3"
  },
  "language_info": {
   "codemirror_mode": {
    "name": "ipython",
    "version": 3
   },
   "file_extension": ".py",
   "mimetype": "text/x-python",
   "name": "python",
   "nbconvert_exporter": "python",
   "pygments_lexer": "ipython3",
   "version": "3.9.12"
  }
 },
 "nbformat": 4,
 "nbformat_minor": 5
}
